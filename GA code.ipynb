{
 "cells": [
  {
   "cell_type": "code",
   "execution_count": 2,
   "id": "e6047732",
   "metadata": {},
   "outputs": [],
   "source": [
    "import numpy as np"
   ]
  },
  {
   "cell_type": "code",
   "execution_count": 3,
   "id": "9c80b58a",
   "metadata": {},
   "outputs": [],
   "source": [
    "import pandas as pd"
   ]
  },
  {
   "cell_type": "code",
   "execution_count": 4,
   "id": "d1eef5e5",
   "metadata": {},
   "outputs": [],
   "source": [
    "data = pd.read_csv('Data.csv')"
   ]
  },
  {
   "cell_type": "code",
   "execution_count": 5,
   "id": "d0170049",
   "metadata": {},
   "outputs": [
    {
     "data": {
      "text/html": [
       "<div>\n",
       "<style scoped>\n",
       "    .dataframe tbody tr th:only-of-type {\n",
       "        vertical-align: middle;\n",
       "    }\n",
       "\n",
       "    .dataframe tbody tr th {\n",
       "        vertical-align: top;\n",
       "    }\n",
       "\n",
       "    .dataframe thead th {\n",
       "        text-align: right;\n",
       "    }\n",
       "</style>\n",
       "<table border=\"1\" class=\"dataframe\">\n",
       "  <thead>\n",
       "    <tr style=\"text-align: right;\">\n",
       "      <th></th>\n",
       "      <th>County</th>\n",
       "      <th>HospitalID</th>\n",
       "      <th>MedicareFr</th>\n",
       "      <th>RPR</th>\n",
       "      <th>RER</th>\n",
       "    </tr>\n",
       "  </thead>\n",
       "  <tbody>\n",
       "    <tr>\n",
       "      <th>0</th>\n",
       "      <td>Alameda</td>\n",
       "      <td>50002</td>\n",
       "      <td>0.385420</td>\n",
       "      <td>24.126127</td>\n",
       "      <td>22.505701</td>\n",
       "    </tr>\n",
       "    <tr>\n",
       "      <th>1</th>\n",
       "      <td>Humboldt</td>\n",
       "      <td>50006</td>\n",
       "      <td>0.463131</td>\n",
       "      <td>16.193045</td>\n",
       "      <td>19.058270</td>\n",
       "    </tr>\n",
       "    <tr>\n",
       "      <th>2</th>\n",
       "      <td>San Mateo</td>\n",
       "      <td>50007</td>\n",
       "      <td>0.302269</td>\n",
       "      <td>20.862410</td>\n",
       "      <td>20.750566</td>\n",
       "    </tr>\n",
       "    <tr>\n",
       "      <th>3</th>\n",
       "      <td>Napa</td>\n",
       "      <td>50009</td>\n",
       "      <td>0.430666</td>\n",
       "      <td>20.507330</td>\n",
       "      <td>22.007002</td>\n",
       "    </tr>\n",
       "    <tr>\n",
       "      <th>4</th>\n",
       "      <td>Napa</td>\n",
       "      <td>50013</td>\n",
       "      <td>0.487894</td>\n",
       "      <td>20.139364</td>\n",
       "      <td>21.881418</td>\n",
       "    </tr>\n",
       "    <tr>\n",
       "      <th>...</th>\n",
       "      <td>...</td>\n",
       "      <td>...</td>\n",
       "      <td>...</td>\n",
       "      <td>...</td>\n",
       "      <td>...</td>\n",
       "    </tr>\n",
       "    <tr>\n",
       "      <th>178</th>\n",
       "      <td>Orange</td>\n",
       "      <td>50746</td>\n",
       "      <td>0.150837</td>\n",
       "      <td>20.370153</td>\n",
       "      <td>21.221684</td>\n",
       "    </tr>\n",
       "    <tr>\n",
       "      <th>179</th>\n",
       "      <td>Los Angeles</td>\n",
       "      <td>50752</td>\n",
       "      <td>0.544773</td>\n",
       "      <td>25.725578</td>\n",
       "      <td>24.427887</td>\n",
       "    </tr>\n",
       "    <tr>\n",
       "      <th>180</th>\n",
       "      <td>San Diego</td>\n",
       "      <td>50757</td>\n",
       "      <td>0.458330</td>\n",
       "      <td>20.635431</td>\n",
       "      <td>21.956419</td>\n",
       "    </tr>\n",
       "    <tr>\n",
       "      <th>181</th>\n",
       "      <td>Los Angeles</td>\n",
       "      <td>50761</td>\n",
       "      <td>0.508488</td>\n",
       "      <td>22.451075</td>\n",
       "      <td>22.105062</td>\n",
       "    </tr>\n",
       "    <tr>\n",
       "      <th>182</th>\n",
       "      <td>Shasta</td>\n",
       "      <td>50764</td>\n",
       "      <td>0.520134</td>\n",
       "      <td>20.108620</td>\n",
       "      <td>21.784416</td>\n",
       "    </tr>\n",
       "  </tbody>\n",
       "</table>\n",
       "<p>183 rows × 5 columns</p>\n",
       "</div>"
      ],
      "text/plain": [
       "          County  HospitalID  MedicareFr        RPR        RER\n",
       "0        Alameda       50002    0.385420  24.126127  22.505701\n",
       "1       Humboldt       50006    0.463131  16.193045  19.058270\n",
       "2      San Mateo       50007    0.302269  20.862410  20.750566\n",
       "3           Napa       50009    0.430666  20.507330  22.007002\n",
       "4           Napa       50013    0.487894  20.139364  21.881418\n",
       "..           ...         ...         ...        ...        ...\n",
       "178       Orange       50746    0.150837  20.370153  21.221684\n",
       "179  Los Angeles       50752    0.544773  25.725578  24.427887\n",
       "180    San Diego       50757    0.458330  20.635431  21.956419\n",
       "181  Los Angeles       50761    0.508488  22.451075  22.105062\n",
       "182       Shasta       50764    0.520134  20.108620  21.784416\n",
       "\n",
       "[183 rows x 5 columns]"
      ]
     },
     "execution_count": 5,
     "metadata": {},
     "output_type": "execute_result"
    }
   ],
   "source": [
    "data"
   ]
  },
  {
   "cell_type": "code",
   "execution_count": 8,
   "id": "392fdf13",
   "metadata": {},
   "outputs": [],
   "source": [
    "# RPR: actual readmissions performace measure\n",
    "# RER: target performance measure\n",
    "# ERR: Excess Readmission Ratio = RPR/RER\n",
    "\n",
    "# if ERR>1: financial penalty = (ERR-1)*CMS*k, k is the proportion\n",
    "# Here we set k = 1\n",
    "# penalty max proportion = 1-FAF(97%) = 0.03\n",
    "\n",
    "# CMS: Medicare & Medicaid Services payment\n",
    "# MedicareFr: Fraction of medicare patients (others are private patients)"
   ]
  },
  {
   "cell_type": "code",
   "execution_count": 6,
   "id": "60b925e6",
   "metadata": {},
   "outputs": [],
   "source": [
    "# create two empty lists to store the maximum revenue and current revenue\n",
    "revenue_max = list()\n",
    "revenue_now = list()\n",
    "\n",
    "for i in range(len(data)):\n",
    "    # Find the RPR and RER values of each row\n",
    "    rpr = data.loc[i, 'RPR']\n",
    "    rer = data.loc[i, 'RER']\n",
    "    \n",
    "    # The fraction of medicare patients\n",
    "    medifrac = data.loc[i, 'MedicareFr']\n",
    "    \n",
    "    # Calculate the factor proportion of panelty(What about CMS?)\n",
    "    # \"it incurs a financial penalty proportional to the level of excessiveness\"\n",
    "    # Set the proportion of excessiveness(k) to 1\n",
    "    # If excessiveness >1, panelty proportion = rpr/rer-1\n",
    "    \n",
    "    # max(k(rpr/rer -1), 0)\n",
    "    penalty = min(max(rpr/rer - 1, 0), 0.03)\n",
    "    \n",
    "    # !!Create a model of the revenue(??!!!)\n",
    "    revenue_current=(1 - penalty * medifrac)*(1 + rpr/100)\n",
    "    revenue_now.append(revenue_current)\n",
    "    \n",
    "    # Now find the max revenue of the hospital\n",
    "    # Find this point by create 50000 points from the interval[1, rpr)\n",
    "    rpr_test = np.linspace(1, rpr, 50000, endpoint = False)\n",
    "    revenue_list = list()\n",
    "    \n",
    "    for j in rpr_test:\n",
    "        penalty2 = min(max(j/rer - 1, 0), 0.03)\n",
    "        \n",
    "        #What is the model????\n",
    "        revenue2 = (1 - penalty2 * medifrac)*(1 + j/100)\n",
    "        revenue_list.append(revenue2)       \n",
    "    # Find the maximun revenue in revenue_list\n",
    "    revenue_max.append(max(revenue_list))"
   ]
  },
  {
   "cell_type": "markdown",
   "id": "b1840a75",
   "metadata": {},
   "source": [
    "Set patient volume = V\n",
    "    Medicare patients = medifrac*V\n",
    "    privtate patients = (1 - medifrac)*V\n",
    "\n",
    "(medifrac*V*p(1-penalty)+(1 - medifrac)*p*V)*(1+rpr/100)\n",
    "(medifrac(1-penalty)+(1 - medifrac))*(1+rpr/100)*Vp\n",
    "->\n",
    "(1 - medifrac * panelty)*(1+rpr/100)*Vp"
   ]
  },
  {
   "cell_type": "code",
   "execution_count": 7,
   "id": "6c8b5c00",
   "metadata": {},
   "outputs": [
    {
     "data": {
      "text/plain": [
       "[1.2269045010347992,\n",
       " 1.161927407991068,\n",
       " 1.2075040226791405,\n",
       " 1.205069397934012,\n",
       " 1.201389814527152]"
      ]
     },
     "execution_count": 7,
     "metadata": {},
     "output_type": "execute_result"
    }
   ],
   "source": [
    "revenue_max[:5]"
   ]
  },
  {
   "cell_type": "code",
   "execution_count": 8,
   "id": "7b22be22",
   "metadata": {},
   "outputs": [
    {
     "data": {
      "text/plain": [
       "[1.226909072780645,\n",
       " 1.1619304466,\n",
       " 1.2066550154188262,\n",
       " 1.2050732994,\n",
       " 1.2013936424]"
      ]
     },
     "execution_count": 8,
     "metadata": {},
     "output_type": "execute_result"
    }
   ],
   "source": [
    "revenue_now[:5]"
   ]
  },
  {
   "cell_type": "code",
   "execution_count": 9,
   "id": "782af7ca",
   "metadata": {},
   "outputs": [],
   "source": [
    "dic = {'max': revenue_max, 'now': revenue_now}\n",
    "df = pd.DataFrame(dic)"
   ]
  },
  {
   "cell_type": "code",
   "execution_count": 10,
   "id": "b1661df7",
   "metadata": {},
   "outputs": [
    {
     "data": {
      "text/html": [
       "<div>\n",
       "<style scoped>\n",
       "    .dataframe tbody tr th:only-of-type {\n",
       "        vertical-align: middle;\n",
       "    }\n",
       "\n",
       "    .dataframe tbody tr th {\n",
       "        vertical-align: top;\n",
       "    }\n",
       "\n",
       "    .dataframe thead th {\n",
       "        text-align: right;\n",
       "    }\n",
       "</style>\n",
       "<table border=\"1\" class=\"dataframe\">\n",
       "  <thead>\n",
       "    <tr style=\"text-align: right;\">\n",
       "      <th></th>\n",
       "      <th>max</th>\n",
       "      <th>now</th>\n",
       "    </tr>\n",
       "  </thead>\n",
       "  <tbody>\n",
       "    <tr>\n",
       "      <th>0</th>\n",
       "      <td>1.226905</td>\n",
       "      <td>1.226909</td>\n",
       "    </tr>\n",
       "    <tr>\n",
       "      <th>1</th>\n",
       "      <td>1.161927</td>\n",
       "      <td>1.161930</td>\n",
       "    </tr>\n",
       "    <tr>\n",
       "      <th>2</th>\n",
       "      <td>1.207504</td>\n",
       "      <td>1.206655</td>\n",
       "    </tr>\n",
       "    <tr>\n",
       "      <th>3</th>\n",
       "      <td>1.205069</td>\n",
       "      <td>1.205073</td>\n",
       "    </tr>\n",
       "    <tr>\n",
       "      <th>4</th>\n",
       "      <td>1.201390</td>\n",
       "      <td>1.201394</td>\n",
       "    </tr>\n",
       "    <tr>\n",
       "      <th>...</th>\n",
       "      <td>...</td>\n",
       "      <td>...</td>\n",
       "    </tr>\n",
       "    <tr>\n",
       "      <th>178</th>\n",
       "      <td>1.203698</td>\n",
       "      <td>1.203702</td>\n",
       "    </tr>\n",
       "    <tr>\n",
       "      <th>179</th>\n",
       "      <td>1.244277</td>\n",
       "      <td>1.236708</td>\n",
       "    </tr>\n",
       "    <tr>\n",
       "      <th>180</th>\n",
       "      <td>1.206350</td>\n",
       "      <td>1.206354</td>\n",
       "    </tr>\n",
       "    <tr>\n",
       "      <th>181</th>\n",
       "      <td>1.221049</td>\n",
       "      <td>1.214764</td>\n",
       "    </tr>\n",
       "    <tr>\n",
       "      <th>182</th>\n",
       "      <td>1.201082</td>\n",
       "      <td>1.201086</td>\n",
       "    </tr>\n",
       "  </tbody>\n",
       "</table>\n",
       "<p>183 rows × 2 columns</p>\n",
       "</div>"
      ],
      "text/plain": [
       "          max       now\n",
       "0    1.226905  1.226909\n",
       "1    1.161927  1.161930\n",
       "2    1.207504  1.206655\n",
       "3    1.205069  1.205073\n",
       "4    1.201390  1.201394\n",
       "..        ...       ...\n",
       "178  1.203698  1.203702\n",
       "179  1.244277  1.236708\n",
       "180  1.206350  1.206354\n",
       "181  1.221049  1.214764\n",
       "182  1.201082  1.201086\n",
       "\n",
       "[183 rows x 2 columns]"
      ]
     },
     "execution_count": 10,
     "metadata": {},
     "output_type": "execute_result"
    }
   ],
   "source": [
    "df"
   ]
  },
  {
   "cell_type": "code",
   "execution_count": 11,
   "id": "b76fbf92",
   "metadata": {},
   "outputs": [],
   "source": [
    "df['incentive'] = df['max'] > df['now']"
   ]
  },
  {
   "cell_type": "code",
   "execution_count": 12,
   "id": "2c065150",
   "metadata": {},
   "outputs": [
    {
     "data": {
      "text/html": [
       "<div>\n",
       "<style scoped>\n",
       "    .dataframe tbody tr th:only-of-type {\n",
       "        vertical-align: middle;\n",
       "    }\n",
       "\n",
       "    .dataframe tbody tr th {\n",
       "        vertical-align: top;\n",
       "    }\n",
       "\n",
       "    .dataframe thead th {\n",
       "        text-align: right;\n",
       "    }\n",
       "</style>\n",
       "<table border=\"1\" class=\"dataframe\">\n",
       "  <thead>\n",
       "    <tr style=\"text-align: right;\">\n",
       "      <th></th>\n",
       "      <th>max</th>\n",
       "      <th>now</th>\n",
       "      <th>incentive</th>\n",
       "    </tr>\n",
       "  </thead>\n",
       "  <tbody>\n",
       "    <tr>\n",
       "      <th>0</th>\n",
       "      <td>1.226905</td>\n",
       "      <td>1.226909</td>\n",
       "      <td>False</td>\n",
       "    </tr>\n",
       "    <tr>\n",
       "      <th>1</th>\n",
       "      <td>1.161927</td>\n",
       "      <td>1.161930</td>\n",
       "      <td>False</td>\n",
       "    </tr>\n",
       "    <tr>\n",
       "      <th>2</th>\n",
       "      <td>1.207504</td>\n",
       "      <td>1.206655</td>\n",
       "      <td>True</td>\n",
       "    </tr>\n",
       "    <tr>\n",
       "      <th>3</th>\n",
       "      <td>1.205069</td>\n",
       "      <td>1.205073</td>\n",
       "      <td>False</td>\n",
       "    </tr>\n",
       "    <tr>\n",
       "      <th>4</th>\n",
       "      <td>1.201390</td>\n",
       "      <td>1.201394</td>\n",
       "      <td>False</td>\n",
       "    </tr>\n",
       "    <tr>\n",
       "      <th>...</th>\n",
       "      <td>...</td>\n",
       "      <td>...</td>\n",
       "      <td>...</td>\n",
       "    </tr>\n",
       "    <tr>\n",
       "      <th>178</th>\n",
       "      <td>1.203698</td>\n",
       "      <td>1.203702</td>\n",
       "      <td>False</td>\n",
       "    </tr>\n",
       "    <tr>\n",
       "      <th>179</th>\n",
       "      <td>1.244277</td>\n",
       "      <td>1.236708</td>\n",
       "      <td>True</td>\n",
       "    </tr>\n",
       "    <tr>\n",
       "      <th>180</th>\n",
       "      <td>1.206350</td>\n",
       "      <td>1.206354</td>\n",
       "      <td>False</td>\n",
       "    </tr>\n",
       "    <tr>\n",
       "      <th>181</th>\n",
       "      <td>1.221049</td>\n",
       "      <td>1.214764</td>\n",
       "      <td>True</td>\n",
       "    </tr>\n",
       "    <tr>\n",
       "      <th>182</th>\n",
       "      <td>1.201082</td>\n",
       "      <td>1.201086</td>\n",
       "      <td>False</td>\n",
       "    </tr>\n",
       "  </tbody>\n",
       "</table>\n",
       "<p>183 rows × 3 columns</p>\n",
       "</div>"
      ],
      "text/plain": [
       "          max       now  incentive\n",
       "0    1.226905  1.226909      False\n",
       "1    1.161927  1.161930      False\n",
       "2    1.207504  1.206655       True\n",
       "3    1.205069  1.205073      False\n",
       "4    1.201390  1.201394      False\n",
       "..        ...       ...        ...\n",
       "178  1.203698  1.203702      False\n",
       "179  1.244277  1.236708       True\n",
       "180  1.206350  1.206354      False\n",
       "181  1.221049  1.214764       True\n",
       "182  1.201082  1.201086      False\n",
       "\n",
       "[183 rows x 3 columns]"
      ]
     },
     "execution_count": 12,
     "metadata": {},
     "output_type": "execute_result"
    }
   ],
   "source": [
    "df"
   ]
  },
  {
   "cell_type": "code",
   "execution_count": 13,
   "id": "373da0b2",
   "metadata": {},
   "outputs": [
    {
     "data": {
      "text/plain": [
       "65"
      ]
     },
     "execution_count": 13,
     "metadata": {},
     "output_type": "execute_result"
    }
   ],
   "source": [
    "# Count how many hospitals' maximum revenue is larger than current revenue\n",
    "sum(df['incentive'] == True)"
   ]
  },
  {
   "cell_type": "code",
   "execution_count": 15,
   "id": "fcd6a40a",
   "metadata": {},
   "outputs": [],
   "source": [
    "df.to_csv('compare_table.csv')"
   ]
  },
  {
   "cell_type": "code",
   "execution_count": null,
   "id": "7a12b84c",
   "metadata": {},
   "outputs": [],
   "source": []
  }
 ],
 "metadata": {
  "kernelspec": {
   "display_name": "Python 3",
   "language": "python",
   "name": "python3"
  },
  "language_info": {
   "codemirror_mode": {
    "name": "ipython",
    "version": 3
   },
   "file_extension": ".py",
   "mimetype": "text/x-python",
   "name": "python",
   "nbconvert_exporter": "python",
   "pygments_lexer": "ipython3",
   "version": "3.8.8"
  }
 },
 "nbformat": 4,
 "nbformat_minor": 5
}
